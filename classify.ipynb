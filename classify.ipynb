{
 "cells": [
  {
   "cell_type": "code",
   "execution_count": null,
   "id": "8efb5116",
   "metadata": {},
   "outputs": [],
   "source": [
    "from parser.models.question import (\n",
    "    Question,\n",
    "    SubQuestion,\n",
    "    SubSubQuestion,\n",
    "    MultipleChoiceQuestion,\n",
    ")\n",
    "from parser.models.syllabus import Syllabus\n",
    "from parser.sq_ms_parser import SQMSParser\n",
    "from parser.sq_parser import QuestionPaperParser\n",
    "from parser.syllabus_parser import SyllabusParser\n",
    "import pdfplumber\n",
    "from typing import List, Optional\n",
    "import re\n",
    "import tqdm\n",
    "import os\n"
   ]
  },
  {
   "cell_type": "code",
   "execution_count": null,
   "id": "47fd47a1",
   "metadata": {},
   "outputs": [],
   "source": [
    "class LLMClassifier:\n",
    "    GUIDE = \"\"\"\n",
    "    你是一个考试大纲分类器, 你需要把考试问题分类到考试大纲中. 你会得到一个考试大纲和一组考试问题. 考试问题可能是多层嵌套的, 你需要把每个问题都分类到考试大纲中. 你只需要分类最小的问题单位(带Answer:), 不需要分类父问题.\n",
    "    输入格式为Number:{question_number} Text:{question_description}( Answer:{question_answer}) 输出格式为{question_number(如果有父问题, 组合number, 用空格连接)}:{syllabus_number},每个question占一行, 不需要输出多余信息.\n",
    "    \"\"\"\n",
    "    def __init__(\n",
    "        self,\n",
    "        api_key: str,\n",
    "        api_url: str,\n",
    "        syllabuses: List[Syllabus],\n",
    "    ):\n",
    "        self.syllabus = syllabuses\n",
    "        self.syllabus_str = \"\\n\\n\".join([str(syl) for syl in syllabuses]) + \"\\n\\n\"\n",
    "        self.api_key = api_key\n",
    "        self.api_url = api_url\n",
    "\n",
    "    def classify_all(\n",
    "        self, questions: List[Question | MultipleChoiceQuestion]\n",
    "    ) -> List[Question | MultipleChoiceQuestion]:\n",
    "        if isinstance(questions[0], MultipleChoiceQuestion):\n",
    "            text = self.format_mcq(questions)\n",
    "        else:\n",
    "            text = self.format_structured_question(questions)\n",
    "\n",
    "    @staticmethod\n",
    "    def format_structured_question(questions: List[Question]) -> str:\n",
    "        output = \"\"\n",
    "        sub = lambda s: re.sub(r\"\\.{3,}\", \"\", re.sub(r\"\\[(\\d+|(Total: \\d+))\\]\", \"\", s)).strip()\n",
    "        for q in questions:\n",
    "            output += f\"Number:{q.number} Text:{sub(q.text)}\"\n",
    "            if q.subquestions:\n",
    "                output += \"\\n\"\n",
    "                for sub_q in q.subquestions:\n",
    "                    text = sub_q.text\n",
    "                    output += f\"    Number:{sub_q.number} Text:{sub(text)}\"\n",
    "                    if sub_q.subsubquestions:\n",
    "                        output += \"\\n\"\n",
    "                        for subsub_q in sub_q.subsubquestions:\n",
    "                            text = subsub_q.text\n",
    "                            output += f\"        Number:{subsub_q.number} Text: {sub(text)} Answer:{subsub_q.answer or ''}\\n\"\n",
    "                    else:\n",
    "                        output += f\" Answer:{sub_q.answer or ''}\\n\"\n",
    "            else:\n",
    "                output += f\" Answer:{q.answer or ''}\\n\"\n",
    "            output += \"\\n\" + \"-\" * 80 + \"\\n\"\n",
    "        return output\n",
    "\n",
    "    @staticmethod\n",
    "    def format_mcq(questions: List[MultipleChoiceQuestion]) -> str:\n",
    "        output = \"\"\n",
    "        for q in questions:\n",
    "            output += f\"Number:{q.number} Text:{q.text}\"\n",
    "            if q.options:\n",
    "                output += f\" Options: {', '.join(q.options)}\"\n",
    "            if q.answer:\n",
    "                output += f\" Answer: {q.answer}\"\n",
    "            output += \"\\n\\n\"\n",
    "        return output.strip()"
   ]
  },
  {
   "cell_type": "code",
   "execution_count": 15,
   "id": "8e86c9db",
   "metadata": {},
   "outputs": [
    {
     "name": "stdout",
     "output_type": "stream",
     "text": [
      "49.6063\n"
     ]
    },
    {
     "name": "stderr",
     "output_type": "stream",
     "text": [
      "[INFO] \u001b[1;36m[1/4] Opening document...\u001b[0m\n",
      "[INFO] \u001b[1;36m[2/4] Analyzing document...\u001b[0m\n",
      "[WARNING] Ignore Line \"<image>\" due to overlap\n",
      "[INFO] \u001b[1;36m[3/4] Parsing pages...\u001b[0m\n",
      "[INFO] (1/15) Page 1\n",
      "[INFO] (2/15) Page 2\n",
      "[INFO] (3/15) Page 3\n",
      "[INFO] (4/15) Page 4\n",
      "[INFO] (5/15) Page 5\n",
      "[INFO] (6/15) Page 6\n",
      "[INFO] (7/15) Page 7\n",
      "[INFO] (8/15) Page 8\n",
      "[INFO] (9/15) Page 9\n",
      "[INFO] (10/15) Page 10\n",
      "[INFO] (11/15) Page 11\n",
      "[INFO] (12/15) Page 12\n",
      "[INFO] (13/15) Page 13\n",
      "[INFO] (14/15) Page 14\n",
      "[INFO] (15/15) Page 15\n"
     ]
    }
   ],
   "source": [
    "with pdfplumber.open(\"papers/595426-2023-2025-syllabus.pdf\") as syllabus_pdf:\n",
    "        syllabus_parser = SyllabusParser(syllabus_pdf, pages=(12, 46))\n",
    "        syllabuses = syllabus_parser.parse_syllabus()\n",
    "with pdfplumber.open(\"papers/igcse-biology-0610/0610_w22_qp_42.pdf\") as qppdf:\n",
    "    sq_parser = QuestionPaperParser(qppdf, image_prefix=\"0610_w22_qp_42\")\n",
    "    questions = sq_parser.parse_question_paper()\n",
    "sqms_parser = SQMSParser(\"papers/igcse-biology-0610/0610_w22_ms_42.pdf\", questions)\n",
    "questions = sqms_parser.parse_ms()"
   ]
  },
  {
   "cell_type": "code",
   "execution_count": 23,
   "id": "6c4b3444",
   "metadata": {},
   "outputs": [],
   "source": [
    "apikey = os.getenv(\"API_KEY\")\n",
    "apiurl = os.getenv(\"API_URL\")\n",
    "classifier = LLMClassifier(apikey, apiurl, syllabuses)\n",
    "# questions = classifier.classify_all(questions)\n",
    "with open(\"output.txt\", \"w\", encoding=\"utf-8\") as f:\n",
    "    f.write(LLMClassifier.format_question(questions))\n"
   ]
  }
 ],
 "metadata": {
  "kernelspec": {
   "display_name": "Python 3",
   "language": "python",
   "name": "python3"
  },
  "language_info": {
   "codemirror_mode": {
    "name": "ipython",
    "version": 3
   },
   "file_extension": ".py",
   "mimetype": "text/x-python",
   "name": "python",
   "nbconvert_exporter": "python",
   "pygments_lexer": "ipython3",
   "version": "3.12.7"
  }
 },
 "nbformat": 4,
 "nbformat_minor": 5
}
